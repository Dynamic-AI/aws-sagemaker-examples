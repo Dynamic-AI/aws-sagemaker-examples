{
 "cells": [
  {
   "cell_type": "markdown",
   "metadata": {},
   "source": [
    "# DynamicAI SageMaker Demo"
   ]
  },
  {
   "cell_type": "markdown",
   "metadata": {},
   "source": [
    "## Deploying the model"
   ]
  },
  {
   "cell_type": "markdown",
   "metadata": {},
   "source": [
    "<div style=\"margin: 0.25em 0em;\">First, let's create new Amazon SageMaker endpoint and deploy our model to it.</div>\n",
    "<div style=\"margin: 0.25em 0em;\">To accomplish that, we will use <code>deploy_model()</code> function which takes following parameters:</div>\n",
    "<div style=\"margin: 0.25em 2em;\"><b>model_arn</b> – Model package ARN, which you can get from AWS Marketplace.</div>\n",
    "<div style=\"margin: 0.25em 2em;\"><b>instance_type</b> – Amazon instance type to deploy to.</div>\n",
    "<div style=\"margin: 0.25em 0em;\">NOTE: Don't forget to substitute your model_arn.</div>\n",
    "<div style=\"margin: 0.25em 0em;\">NOTE 2: This operation can take few minutes.</div>"
   ]
  },
  {
   "cell_type": "code",
   "execution_count": null,
   "metadata": {
    "scrolled": true
   },
   "outputs": [],
   "source": [
    "model_arn = 'arn:aws:sagemaker:us-east-2:057799348421:model-package/dynamic-ai-demo-617ce7e562c6bd730e798be57baa4605'\n",
    "import dynamic_ai as dynai\n",
    "dynai.deploy_model(model_arn=model_arn, instance_type='ml.m5.4xlarge')"
   ]
  },
  {
   "cell_type": "markdown",
   "metadata": {},
   "source": [
    "Quick check if the system is ready to work, using <code>is_ready</code> function:"
   ]
  },
  {
   "cell_type": "code",
   "execution_count": null,
   "metadata": {},
   "outputs": [],
   "source": [
    "dynai.is_ready()"
   ]
  },
  {
   "cell_type": "markdown",
   "metadata": {},
   "source": [
    "## Adding a message"
   ]
  },
  {
   "cell_type": "markdown",
   "metadata": {},
   "source": [
    "<div style=\"margin: 0.25em 0em;\">Everything starts with adding a message to the system. <code>add_message</code> function processes a piece of text and returns unique message_id attached to it, which we will use later.</div>\n",
    "<div style=\"margin: 0.25em 0em;\">Note: <code>add_message</code> function can take 30..60 seconds to complete, depending on the text complexity.</div>"
   ]
  },
  {
   "cell_type": "code",
   "execution_count": null,
   "metadata": {
    "scrolled": false
   },
   "outputs": [],
   "source": [
    "dynai.add_message('Very simple test message')"
   ]
  },
  {
   "cell_type": "code",
   "execution_count": null,
   "metadata": {},
   "outputs": [],
   "source": [
    "dynai.add_message('Another simple test message')\n",
    "dynai.add_message('And one more simple test message')\n",
    "dynai.add_message('Last simple test message')"
   ]
  },
  {
   "cell_type": "markdown",
   "metadata": {},
   "source": [
    "<div style=\"margin: 0.25em 0em;\">To quickly check all the messages that were added to the system, use <code>list_messages</code> function.</div>"
   ]
  },
  {
   "cell_type": "code",
   "execution_count": null,
   "metadata": {
    "scrolled": true
   },
   "outputs": [],
   "source": [
    "dynai.list_messages()"
   ]
  },
  {
   "cell_type": "markdown",
   "metadata": {},
   "source": [
    "## Setting category"
   ]
  },
  {
   "cell_type": "markdown",
   "metadata": {},
   "source": [
    "Now, let's set a category for our first test message:"
   ]
  },
  {
   "cell_type": "code",
   "execution_count": null,
   "metadata": {},
   "outputs": [],
   "source": [
    "dynai.set_category('VHnDVXRc482cJZaSbsWwro', 'Test')"
   ]
  },
  {
   "cell_type": "markdown",
   "metadata": {},
   "source": [
    "...And do the same with other test messages. This way we create <code>'Test'</code> category which contains four messages:"
   ]
  },
  {
   "cell_type": "code",
   "execution_count": null,
   "metadata": {},
   "outputs": [],
   "source": [
    "dynai.set_category('WOKP-gP3iff-AR0KWQKye-', 'Test')\n",
    "dynai.set_category('imvLjGrhZObuGi2M1-YeDE', 'Test')\n",
    "dynai.set_category('zY7P2zMvvEdv4CFBorW-B-', 'Test')"
   ]
  },
  {
   "cell_type": "markdown",
   "metadata": {},
   "source": [
    "<div style=\"margin: 0.25em 0em;\">You can get a list of all messages belonging to some particular category calling <code>list_messages</code> function with <code>category</code> parameter:</div>"
   ]
  },
  {
   "cell_type": "code",
   "execution_count": null,
   "metadata": {},
   "outputs": [],
   "source": [
    "dynai.list_messages(category='Test')"
   ]
  },
  {
   "cell_type": "markdown",
   "metadata": {},
   "source": [
    "## Simple classification example"
   ]
  },
  {
   "cell_type": "markdown",
   "metadata": {},
   "source": [
    "To show how DynamicAI classification works, I will task a system to predict a category for yet another test message using <code>predict_category</code> function:"
   ]
  },
  {
   "cell_type": "code",
   "execution_count": null,
   "metadata": {},
   "outputs": [],
   "source": [
    "id = dynai.add_message('Hey, here I am - a new test message')\n",
    "dynai.predict_category(id)"
   ]
  },
  {
   "cell_type": "markdown",
   "metadata": {},
   "source": [
    "<div style=\"margin: 0.25em 0em;\"><code>predict_category</code> function returns a dictionary with the following keys:</div>\n",
    "<div style=\"margin: 0.25em 2em;\"><b>category</b> – predicted category, in this case <code>'Test'</code>, which is correct result.</div>\n",
    "<div style=\"margin: 0.25em 2em;\"><b>accuracy</b> – estimated accuracy of the prediction.</div>\n",
    "<div style=\"margin: 0.25em 2em;\"><b>is_approved</b> – boolean flag, True of False; True means that our system verified the prediction and found it highly reliable (up to estimated accuracy).</div>"
   ]
  },
  {
   "cell_type": "markdown",
   "metadata": {},
   "source": [
    "Another example – with a message that doesn't fit in the <code>'Test'</code> category:"
   ]
  },
  {
   "cell_type": "code",
   "execution_count": null,
   "metadata": {},
   "outputs": [],
   "source": [
    "id = dynai.add_message('Hey, here I am - a completely different message')\n",
    "dynai.predict_category(id)"
   ]
  },
  {
   "cell_type": "markdown",
   "metadata": {},
   "source": [
    "And the result is <code>'category': None</code>, which is correct."
   ]
  },
  {
   "cell_type": "markdown",
   "metadata": {},
   "source": [
    "## Complex classification example: Rent-A-Car corpus"
   ]
  },
  {
   "cell_type": "markdown",
   "metadata": {},
   "source": [
    "<div style=\"margin: 0.25em 0em;\">Now, let's proceed to more complex example with Rent-A-Car corpus. File <code>rent-a-car-corpus-small.txt</code> contains a small set of less than 100 messages, split into the three categories:</div>\n",
    "<div style=\"margin: 0.25em 2em;\"><b>Accident</b> – Questions related to car accidents or accident notifications.</div>\n",
    "<div style=\"margin: 0.25em 2em;\"><b>Cancel</b> – Questions related to order cancellation or cancellation requests.</div>\n",
    "<div style=\"margin: 0.25em 2em;\"><b>Invoice</b> – Invoice-related questions or requests.</div>\n",
    "<div style=\"margin: 0.25em 0em;\">This small piece of code loads the file and adds the messages from it to the DynamicAI system:</div>\n",
    "<div style=\"margin: 0.25em 0em;\">NOTE: This operation will take around one hour to complete.</div>"
   ]
  },
  {
   "cell_type": "code",
   "execution_count": null,
   "metadata": {},
   "outputs": [],
   "source": [
    "with open('rent-a-car-corpus-small.txt') as f:\n",
    "    lines = [line.strip() for line in f.readlines() if not line.isspace()]\n",
    "\n",
    "for line in lines:\n",
    "    parts = line.split(':', 2)\n",
    "    category = parts[0]\n",
    "    message = parts[1]\n",
    "    message_id = dynai.add_message(message)\n",
    "    dynai.set_category(message_id, category)\n",
    "    print('.', end='')\n",
    "    \n",
    "print('done')"
   ]
  },
  {
   "cell_type": "markdown",
   "metadata": {},
   "source": [
    "Let's play! Try to add some messages to the system and see what category you'll get back!"
   ]
  },
  {
   "cell_type": "code",
   "execution_count": null,
   "metadata": {
    "scrolled": true
   },
   "outputs": [],
   "source": [
    "id = dynai.add_message('Dear Rent-A-Car company, I have lost my invoice, can you send it to me one more time?')\n",
    "dynai.predict_category(id)"
   ]
  },
  {
   "cell_type": "code",
   "execution_count": null,
   "metadata": {},
   "outputs": [],
   "source": [
    "id = dynai.add_message('Hello! My plans have changed, so can you cancel my reservation please?')\n",
    "dynai.predict_category(id)"
   ]
  },
  {
   "cell_type": "code",
   "execution_count": null,
   "metadata": {
    "scrolled": true
   },
   "outputs": [],
   "source": [
    "id = dynai.add_message('Hello, can you please sell me a cow?')\n",
    "dynai.predict_category(id)"
   ]
  },
  {
   "cell_type": "markdown",
   "metadata": {},
   "source": [
    "## Shutdown endpoint and cleanup everything"
   ]
  },
  {
   "cell_type": "markdown",
   "metadata": {},
   "source": [
    "Don't forget to switch the lights off when you finish :)"
   ]
  },
  {
   "cell_type": "code",
   "execution_count": null,
   "metadata": {},
   "outputs": [],
   "source": [
    "# dynai.shutdown()"
   ]
  },
  {
   "cell_type": "markdown",
   "metadata": {},
   "source": [
    "## The End"
   ]
  }
 ],
 "metadata": {
  "kernelspec": {
   "display_name": "conda_python3",
   "language": "python",
   "name": "conda_python3"
  },
  "language_info": {
   "codemirror_mode": {
    "name": "ipython",
    "version": 3
   },
   "file_extension": ".py",
   "mimetype": "text/x-python",
   "name": "python",
   "nbconvert_exporter": "python",
   "pygments_lexer": "ipython3",
   "version": "3.6.5"
  }
 },
 "nbformat": 4,
 "nbformat_minor": 2
}
